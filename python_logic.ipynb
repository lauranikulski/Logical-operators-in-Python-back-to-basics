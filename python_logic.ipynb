{
 "cells": [
  {
   "cell_type": "markdown",
   "metadata": {},
   "source": [
    "![banner](pythonlogic.jpg)"
   ]
  },
  {
   "cell_type": "markdown",
   "metadata": {},
   "source": [
    "# Python Logical Operators - Mini Workshop \n",
    "\n",
    "<< Quick About Me: Seoul chapter, day job, analytics, computer science path, reviewing mistakes >>"
   ]
  },
  {
   "cell_type": "markdown",
   "metadata": {},
   "source": [
    "1. You will have 5 minutes on the clock to solve a small problem. If everyone finishes earlier, we will compare notes earlier. \n",
    "<br>\n",
    "2. I will then explain what I did. ChatGPT will critique my code. \n",
    "<br>\n",
    "3. Then, you are free to share your own code if you wish. \n",
    "\n",
    "> In your own interest, I would recommend that you try figuring things out for yourself first. If you need to check syntax, that's fine but I would personally advise against asking ChatGPT. \n",
    "\n",
    "Quick rundown on logical operators in Python: \n",
    "[Python documentation](https://docs.python.org/3/library/stdtypes.html#boolean-operations-and-or-not)\n",
    "- x < 5 `and` x < 10\n",
    "- x < 5 `or` x < 4\n",
    "- `not`(x < 5 and x < 10)\n",
    "\n",
    "Comparison operators\n",
    "- `<` strictly less than\n",
    "- `<=` less than or equal\n",
    "- `>` strictly greater than\n",
    "- `>=` greater than or equal'\n",
    "- `==` equal\n",
    "- `!=` not equal\n",
    "- `is` object identity\n",
    "- `is` not negated object identity\n"
   ]
  },
  {
   "cell_type": "markdown",
   "metadata": {},
   "source": [
    "## Problem 1: Are you old enough to be on Codecademy \n",
    "<br>\n",
    "Create a program that asks for a user's age and determines if they are eligible for being on Codecademy using logical conditions."
   ]
  },
  {
   "cell_type": "code",
   "execution_count": 1,
   "metadata": {},
   "outputs": [],
   "source": [
    "def oldenoughforcodecademy(yourage):\n",
    "    minimumage = 16\n",
    "    if yourage < minimumage:\n",
    "        return 'Please ask your parents for permission'\n",
    "    return 'Get cracking'"
   ]
  },
  {
   "cell_type": "code",
   "execution_count": 2,
   "metadata": {},
   "outputs": [
    {
     "data": {
      "text/plain": [
       "'Please ask your parents for permission'"
      ]
     },
     "execution_count": 2,
     "metadata": {},
     "output_type": "execute_result"
    }
   ],
   "source": [
    "oldenoughforcodecademy(15)"
   ]
  },
  {
   "cell_type": "markdown",
   "metadata": {},
   "source": [
    "ChatGPT said: \n",
    "<br>\n",
    "#### Function Name and Variable Names:\n",
    "Use a more descriptive function name and variable names in snake_case, which is the convention in Python. For instance, is_old_enough_for_codecademy and age would be more descriptive and standard.\n",
    "#### Numbers:\n",
    "Instead of hardcoding the minimum age within the function, consider defining it as a constant at the top of your code or passing it as a parameter if it might change.\n",
    "#### Return Types:\n",
    "Using strings for different messages is fine, but if the function might be extended in the future, consider using exceptions or a more structured way to handle responses."
   ]
  },
  {
   "cell_type": "code",
   "execution_count": 3,
   "metadata": {},
   "outputs": [],
   "source": [
    "def old_enough_for_codecademy(your_age):\n",
    "    minimum_age = 16\n",
    "    # Validate the input\n",
    "    if not isinstance(your_age, int) or your_age < 0:\n",
    "        return 'Invalid age. Please enter a non-negative integer.'\n",
    "    if your_age < minimum_age:\n",
    "        return 'Please ask your parents for permission.'\n",
    "    return 'Get cracking!'"
   ]
  },
  {
   "cell_type": "markdown",
   "metadata": {},
   "source": [
    "## Problem 2: Basic Login System\n",
    "Create a program that asks for a username and password, and uses logical operators to check if the entered credentials match predefined ones."
   ]
  },
  {
   "cell_type": "code",
   "execution_count": 4,
   "metadata": {},
   "outputs": [],
   "source": [
    "class MyUser():\n",
    "    # Add a constructor here\n",
    "    def __init__(self, username, password):\n",
    "        self.username = username\n",
    "        self.password = password\n",
    "    def __repr__(self):\n",
    "        return \"User name and password{}{}\".format(self.username, self.password)\n",
    "\n",
    "def loginsystem(username, password): \n",
    "    if username != MyUser.username:\n",
    "        return 'This user does not exist'\n",
    "    elif (username == MyUser.username and password != MyUser.password):\n",
    "        return 'Please check your password'\n",
    "    return 'Logging you in'\n"
   ]
  },
  {
   "cell_type": "markdown",
   "metadata": {},
   "source": [
    "ChatGPT told me: \n",
    "\n",
    "#### Class Method Usage:\n",
    "\n",
    "The loginsystem function is not properly accessing instance attributes of the MyUser class.\n",
    "#### Class Design:\n",
    "\n",
    "You need an instance of MyUser to check the login credentials against, rather than using the class attributes directly.\n",
    "#### __repr__ Method:\n",
    "\n",
    "The __repr__ method should be formatted correctly to display the username and password in a readable format."
   ]
  },
  {
   "cell_type": "code",
   "execution_count": 5,
   "metadata": {},
   "outputs": [],
   "source": [
    "class MyUser:\n",
    "    def __init__(self, username, password):\n",
    "        self.username = username\n",
    "        self.password = password\n",
    "\n",
    "    def __repr__(self):\n",
    "        return f\"Username: {self.username}, Password: {self.password}\"\n",
    "\n",
    "def loginsystem(user, username, password): \n",
    "    if username != user.username:\n",
    "        return 'This user does not exist'\n",
    "    elif username == user.username and password != user.password:\n",
    "        return 'Please check your password'\n",
    "    return 'Logging you in'\n",
    "\n",
    "# Create an instance of MyUser\n",
    "user = MyUser('john_doe', 'password123')"
   ]
  },
  {
   "cell_type": "markdown",
   "metadata": {},
   "source": [
    "## Problem 3: Password Strength Checker\n",
    "Develop a simple script to check the strength of a password. Use logical operators to ensure the password meets certain criteria (e.g., length, includes numbers and special characters).\n"
   ]
  },
  {
   "cell_type": "code",
   "execution_count": 6,
   "metadata": {},
   "outputs": [],
   "source": [
    "uppercaseletters = 'ABCDEFGHIJKLMNOPQRSTUVWXYZ'\n",
    "lowercaseletters = 'abcdefghijklmnopqrstuvwxyz'\n",
    "specialchars = \"~`!@#$%^&*()_-+={[}]|\\:;\\\"'<,>.?/\"\n",
    "numbers = '1234567890'\n",
    "\n",
    "def password_strength_checker(pw):\n",
    "    if len(pw) <=4: \n",
    "        return 'Your password is too short. Please enter a longer password.'\n",
    "    elif uppercaseletters not in pw:\n",
    "        return 'Please include at least one uppercase letter in your password'\n",
    "    elif lowercaseletters not in pw: \n",
    "        return 'Please include at least one lowercase letter in your password'\n",
    "    elif numbers not in pw: \n",
    "        return 'Please include at least one number in your password'\n",
    "    return 'Password strength: Good'\n"
   ]
  },
  {
   "cell_type": "code",
   "execution_count": 7,
   "metadata": {},
   "outputs": [
    {
     "data": {
      "text/plain": [
       "'Please include at least one uppercase letter in your password'"
      ]
     },
     "execution_count": 7,
     "metadata": {},
     "output_type": "execute_result"
    }
   ],
   "source": [
    "password_strength_checker('Mee11_')"
   ]
  },
  {
   "cell_type": "markdown",
   "metadata": {},
   "source": [
    "Here's what ChatGPT had to say: \n",
    "\n",
    "#### Incorrect Membership Check:\n",
    "\n",
    "Using in to check if a whole string (like uppercaseletters) is in pw does not check for the presence of individual characters. Instead, it checks if the entire string of uppercaseletters is a substring of pw, which will always return False.\n",
    "#### Special Characters Not Checked:\n",
    "\n",
    "The function does not check for the presence of special characters in the password.\n",
    "#### Inconsistent Error Messages:\n",
    "\n",
    "The error messages are somewhat inconsistent in style. It's better to keep the messages uniform.\n",
    "#### Return at the End:\n",
    "\n",
    "The function can return an additional message if all conditions are met, such as checking for the presence of special characters."
   ]
  },
  {
   "cell_type": "code",
   "execution_count": 8,
   "metadata": {},
   "outputs": [],
   "source": [
    "import string\n",
    "\n",
    "uppercaseletters = string.ascii_uppercase\n",
    "lowercaseletters = string.ascii_lowercase\n",
    "specialchars = \"~`!@#$%^&*()_-+={[}]|\\:;\\\"'<,>.?/\"\n",
    "numbers = string.digits\n",
    "\n",
    "def password_strength_checker(pw):\n",
    "    if len(pw) <= 4: \n",
    "        return 'Your password is too short. Please enter a longer password.'\n",
    "    if not any(char in uppercaseletters for char in pw):\n",
    "        return 'Please include at least one uppercase letter in your password.'\n",
    "    if not any(char in lowercaseletters for char in pw): \n",
    "        return 'Please include at least one lowercase letter in your password.'\n",
    "    if not any(char in numbers for char in pw): \n",
    "        return 'Please include at least one number in your password.'\n",
    "    if not any(char in specialchars for char in pw):\n",
    "        return 'Please include at least one special character in your password.'\n",
    "    return 'Password strength: Good'"
   ]
  },
  {
   "cell_type": "markdown",
   "metadata": {},
   "source": [
    "## Problem 4: Prime Number Generator\n",
    "_Objective:_ Write a program to generate a list of prime numbers up to a specified number.\n",
    "<br>\n",
    "_Tasks:_ Get input from the user for the upper limit. Use a loop and conditions to identify prime numbers.\n",
    "\n",
    ">> 'A prime number (or a prime) is a natural number greater than 1 that is not a product of two smaller natural numbers. A natural number greater than 1 that is not prime is called a composite number. For example, 5 is prime because the only ways of writing it as a product, 1 × 5 or 5 × 1, involve 5 itself. However, 4 is composite because it is a product (2 × 2) in which both numbers are smaller than 4.'\n"
   ]
  },
  {
   "cell_type": "code",
   "execution_count": 9,
   "metadata": {},
   "outputs": [],
   "source": [
    "def primenumbergenerator(mynumber):\n",
    "\tprimenumlist = []\n",
    "\tif mynumber > 1:\n",
    "\t\tfor number in range(mynumber):\n",
    "\t\t\tif (number % 2 != 0 and number%mynumber==0):\n",
    "\t\t\t\t\tprimenumlist.append(number)\n",
    "\t\t\t\t\treturn primenumlist\n",
    "\telse: \n",
    "\t\treturn 'Please select a natural number greater or equal to 1'"
   ]
  },
  {
   "cell_type": "code",
   "execution_count": 10,
   "metadata": {},
   "outputs": [
    {
     "name": "stdout",
     "output_type": "stream",
     "text": [
      "None\n"
     ]
    }
   ],
   "source": [
    "print(primenumbergenerator(239))"
   ]
  },
  {
   "cell_type": "code",
   "execution_count": 11,
   "metadata": {},
   "outputs": [],
   "source": [
    "# Here's what ChatGPT had to say:\n",
    "def chatgpt_primenumbergenerator(mynumber):\n",
    "    primenumlist = []\n",
    "    if mynumber >= 2:\n",
    "        for number in range(2, mynumber):\n",
    "            for i in range(2, number):\n",
    "                if number % i == 0:\n",
    "                    break\n",
    "            else:\n",
    "                primenumlist.append(number)\n",
    "        return primenumlist\n",
    "    else: \n",
    "        return 'Please select a natural number greater or equal to 2'\n",
    "\n"
   ]
  },
  {
   "cell_type": "code",
   "execution_count": 12,
   "metadata": {},
   "outputs": [
    {
     "name": "stdout",
     "output_type": "stream",
     "text": [
      "[2, 3, 5, 7, 11, 13, 17, 19, 23, 29, 31, 37, 41, 43, 47, 53, 59, 61, 67, 71, 73, 79, 83, 89, 97, 101, 103, 107, 109, 113, 127, 131, 137, 139, 149, 151, 157, 163, 167, 173, 179, 181, 191, 193, 197, 199, 211, 223, 227, 229, 233]\n"
     ]
    }
   ],
   "source": [
    "# Test the function\n",
    "print(chatgpt_primenumbergenerator(239))"
   ]
  },
  {
   "cell_type": "markdown",
   "metadata": {},
   "source": [
    "Explanation of Corrections:\n",
    "<br>\n",
    "### Loop Range:\n",
    "Changed the loop to for number in range(2, mynumber): to start checking from 2.\n",
    "<br>\n",
    "### Prime Check Logic:\n",
    "The nested loop for i in range(2, number): checks if the number has any divisors other than 1 and itself.\n",
    "If any divisor is found (number % i == 0), the loop breaks.\n",
    "If no divisors are found (the else block of the for loop), the number is prime and is appended to primenumlist.\n",
    "<br>\n",
    "### Return Statement:\n",
    "Moved the return primenumlist statement outside the loop to ensure all numbers up to mynumber are checked.\n",
    "### Edge Case Handling:\n",
    "Changed the condition to if mynumber >= 2: and updated the return message to 'Please select a natural number greater or equal to 2'."
   ]
  },
  {
   "cell_type": "markdown",
   "metadata": {},
   "source": [
    "Thanks for your time and attention! "
   ]
  }
 ],
 "metadata": {
  "kernelspec": {
   "display_name": "Python 3",
   "language": "python",
   "name": "python3"
  },
  "language_info": {
   "codemirror_mode": {
    "name": "ipython",
    "version": 3
   },
   "file_extension": ".py",
   "mimetype": "text/x-python",
   "name": "python",
   "nbconvert_exporter": "python",
   "pygments_lexer": "ipython3",
   "version": "3.11.0"
  }
 },
 "nbformat": 4,
 "nbformat_minor": 2
}
